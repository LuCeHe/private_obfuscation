{
  "nbformat": 4,
  "nbformat_minor": 0,
  "metadata": {
    "colab": {
      "provenance": []
    },
    "kernelspec": {
      "name": "python3",
      "display_name": "Python 3"
    },
    "language_info": {
      "name": "python"
    }
  },
  "cells": [
    {
      "cell_type": "code",
      "execution_count": 32,
      "metadata": {
        "id": "PYZeHLKPsY9x"
      },
      "outputs": [],
      "source": [
        "from sklearn.feature_extraction.text import TfidfVectorizer\n",
        "from gensim.models import Word2Vec\n",
        "from sklearn.metrics import mean_squared_error, mean_absolute_error\n",
        "import numpy as np"
      ]
    },
    {
      "cell_type": "code",
      "source": [
        "def sensitive_terms_masking(query, sensitive_dict):\n",
        "    for term, mask in sensitive_dict.items():\n",
        "        query = query.replace(term, mask)\n",
        "    return query"
      ],
      "metadata": {
        "id": "kMeWx4W3shh6"
      },
      "execution_count": 33,
      "outputs": []
    },
    {
      "cell_type": "code",
      "source": [
        "def sparse_vec(reformulated_queries):\n",
        "    vectorizer = TfidfVectorizer()\n",
        "    tfidf_vectors = vectorizer.fit_transform(reformulated_queries)\n",
        "    return tfidf_vectors.toarray()"
      ],
      "metadata": {
        "id": "bC2_REBXsmj8"
      },
      "execution_count": 34,
      "outputs": []
    },
    {
      "cell_type": "code",
      "source": [
        "def dense_vec(tokenized_queries):\n",
        "\n",
        "    word2vec_model = Word2Vec(tokenized_queries, vector_size=50, min_count=1, workers=2)\n",
        "\n",
        "\n",
        "    dense_vectors = []\n",
        "    for tokens in tokenized_queries:\n",
        "        vector = np.mean([word2vec_model.wv[word] for word in tokens if word in word2vec_model.wv], axis=0)\n",
        "        dense_vectors.append(vector)\n",
        "\n",
        "    return np.array(dense_vectors)"
      ],
      "metadata": {
        "id": "URv4CwujstU-"
      },
      "execution_count": 35,
      "outputs": []
    },
    {
      "cell_type": "code",
      "source": [
        "def cal_mse_mae(original_vectors, protected_vectors):\n",
        "    mse = mean_squared_error(original_vectors, protected_vectors)\n",
        "    mae = mean_absolute_error(original_vectors, protected_vectors)\n",
        "    return mse, mae"
      ],
      "metadata": {
        "id": "kOW757Ers0J0"
      },
      "execution_count": 36,
      "outputs": []
    },
    {
      "cell_type": "code",
      "source": [
        "def privacy_loss_ev(original_query, protected_query, sensitive_dict):\n",
        "    exposed_terms = 0\n",
        "    total_sensitive = len(sensitive_dict)\n",
        "\n",
        "    for term in sensitive_dict.keys():\n",
        "        if term in original_query and term in protected_query:\n",
        "            exposed_terms += 1\n",
        "\n",
        "    return exposed_terms / total_sensitive * 100"
      ],
      "metadata": {
        "id": "niwpz6RWs3-m"
      },
      "execution_count": 37,
      "outputs": []
    },
    {
      "cell_type": "code",
      "source": [
        "def privacy_score_ev(original_query, protected_query, sensitive_dict):\n",
        "    protected_terms = 0\n",
        "    total_sensitive = len(sensitive_dict)\n",
        "\n",
        "    for term in sensitive_dict.keys():\n",
        "        if term in original_query and term not in protected_query:\n",
        "            protected_terms += 1\n",
        "\n",
        "    return protected_terms / total_sensitive * 100"
      ],
      "metadata": {
        "id": "UmxAwP6os7v3"
      },
      "execution_count": 38,
      "outputs": []
    },
    {
      "cell_type": "code",
      "source": [
        "def privacy_metrics_evaluation(original_queries, protected_queries, sensitive_dict):\n",
        "    privacy_loss_scores = []\n",
        "    privacy_scores = []\n",
        "\n",
        "    for original, protected in zip(original_queries, protected_queries):\n",
        "        privacy_loss = privacy_loss_ev(original, protected, sensitive_dict)\n",
        "        privacy_score = privacy_score_ev(original, protected, sensitive_dict)\n",
        "        privacy_loss_scores.append(privacy_loss)\n",
        "        privacy_scores.append(privacy_score)\n",
        "\n",
        "\n",
        "    return np.mean(privacy_loss_scores), np.mean(privacy_scores)"
      ],
      "metadata": {
        "id": "41Y-b3Fcs_fw"
      },
      "execution_count": 39,
      "outputs": []
    },
    {
      "cell_type": "code",
      "source": [
        "def reformulate_evaluate(queries, sensitive_dict):\n",
        "\n",
        "    reformulated_queries = [sensitive_terms_masking(query, sensitive_dict) for query in queries]\n",
        "    sparse_vectors = sparse_vec(reformulated_queries)\n",
        "    tokenized_queries = [query.split() for query in reformulated_queries]\n",
        "    dense_vectors = dense_vec(tokenized_queries)\n",
        "    original_sparse_vectors = np.random.rand(len(queries), sparse_vectors.shape[1])\n",
        "    original_dense_vectors = np.random.rand(len(queries), dense_vectors.shape[1])\n",
        "\n",
        "\n",
        "    mse_sparse, mae_sparse = cal_mse_mae(original_sparse_vectors, sparse_vectors)\n",
        "    mse_dense, mae_dense = cal_mse_mae(original_dense_vectors, dense_vectors)\n",
        "\n",
        "\n",
        "    privacy_loss, privacy_score = privacy_metrics_evaluation(queries, reformulated_queries, sensitive_dict)\n",
        "\n",
        "\n",
        "    print(f\"Sparse Model Evaluation - MSE: {mse_sparse}, MAE: {mae_sparse}\")\n",
        "    print(f\"Dense Model Evaluation - MSE: {mse_dense}, MAE: {mae_dense}\")\n",
        "    print(f\"Privacy Loss (%): {privacy_loss}\")\n",
        "    print(f\"Privacy Score (%): {privacy_score}\")"
      ],
      "metadata": {
        "id": "w0Fc5PaitIM6"
      },
      "execution_count": 40,
      "outputs": []
    },
    {
      "cell_type": "code",
      "source": [
        "if __name__ == \"__main__\":\n",
        "    sensitive_terms = {\n",
        "        \"my house address\": \"USER_ADDRESS\",\n",
        "        \"Sesto,  20099\": \"Via Peace\",\n",
        "        \"credit card number\": \"CREDIT_CARD\",\n",
        "        \"1234 5678 9012 3456\": \"CARD_001\"\n",
        "    }\n",
        "\n",
        "    queries = [\n",
        "        \"My house address is Sesto, 20099.\",\n",
        "        \"Please send the package to Via Peace 123.\",\n",
        "        \"My credit card number is 1234 5678 9012 3456.\"\n",
        "    ]\n",
        "\n",
        "    reformulate_evaluate(queries, sensitive_terms)"
      ],
      "metadata": {
        "colab": {
          "base_uri": "https://localhost:8080/"
        },
        "id": "2lz0YX3DtVV9",
        "outputId": "0a9aea40-023a-4411-efa6-a8224d6c44ef"
      },
      "execution_count": 41,
      "outputs": [
        {
          "output_type": "stream",
          "name": "stdout",
          "text": [
            "Sparse Model Evaluation - MSE: 0.253347135219695, MAE: 0.441938300164972\n",
            "Dense Model Evaluation - MSE: 0.33277147128636514, MAE: 0.5045809320297744\n",
            "Privacy Loss (%): 0.0\n",
            "Privacy Score (%): 16.666666666666668\n"
          ]
        }
      ]
    }
  ]
}